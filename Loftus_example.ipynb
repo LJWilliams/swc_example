{
 "metadata": {
  "name": "Loftus_example"
 },
 "nbformat": 3,
 "nbformat_minor": 0,
 "worksheets": [
  {
   "cells": [
    {
     "cell_type": "markdown",
     "metadata": {},
     "source": [
      "#Putting it all together\n",
      "\n",
      "## Taking off with Loftus ...\n",
      "\n",
      "(From Abdi, Edelman, Valentin & Dowling, 2009; Williams, Krishnan, & Abdi, 2009)\n",
      "\n",
      "-------------\n",
      "\n",
      "In the 1970s Elizabeth Loftus (Loftus and Palmer, 1974) conducted a series of experiments on the theme of eyewitness testimony. They wanted to find out whether the wording of a question affected the later responses of witnesses. To do this she showed subjects a film of a car accident. Following the film, she asked them a series of questions. Among the questions was one of 5 versions of a critical question concerning the speed the vehicles were travelling in miles per hour. Here are the 5 versions of the question along with the experimental condition in which they occurred:\n",
      "\n",
      "* HIT: About how fast were the cars going when they _hit_ each other?\n",
      "\n",
      "* SMASH: About how fast were the cars going when they _smashed into_ each other?\n",
      "\n",
      "* COLLIDE: About how fast were the cars going when they _collided with_ each other?\n",
      "\n",
      "* BUMP: About how fast were the cars going when they _bumped_ each other?\n",
      "\n",
      "* CONTACT: About how fast were the cars going when they _contacted_ each other?\n",
      "\n",
      "\n",
      "Software Carpentry conducted a (ficticious) replication of the study in an online survey. The results are in the file loftus.csv. \n",
      "\n",
      "We want to be able to answer the question: _Does the wording of the question affect witnesses' estimation of the speed the vehicles were traveling?_"
     ]
    },
    {
     "cell_type": "markdown",
     "metadata": {},
     "source": [
      "### Step 1: Import the .csv file\n"
     ]
    },
    {
     "cell_type": "code",
     "collapsed": false,
     "input": [
      "datafile = open('loftus.csv', 'rU')\n",
      "data = []\n",
      "for row in datafile:\n",
      "    data.append(row.strip().split(','))\n",
      "datafile.close()"
     ],
     "language": "python",
     "metadata": {},
     "outputs": [],
     "prompt_number": 23
    },
    {
     "cell_type": "markdown",
     "metadata": {},
     "source": [
      "### Step 2: Get header row\n",
      "#### If you know that the data file has a header row:"
     ]
    },
    {
     "cell_type": "code",
     "collapsed": false,
     "input": [
      "datafile = open('loftus.csv', 'rU')\n",
      "data = []\n",
      "rownum = 0\n",
      "for row in datafile:\n",
      "    if rownum == 0:\n",
      "        header = row\n",
      "    else:\n",
      "        data.append(row.strip().split(','))\n",
      "    rownum += 1\n",
      "datafile.close()"
     ],
     "language": "python",
     "metadata": {},
     "outputs": [],
     "prompt_number": 62
    },
    {
     "cell_type": "markdown",
     "metadata": {},
     "source": [
      "#### But what if you don't know if the data has a header row?\n",
      "\n",
      "Use the `csv` module\n",
      "\n",
      "The `has_header` method of the `Sniffer` class returns `True` if the first line of the data is likely to be a header row. "
     ]
    },
    {
     "cell_type": "code",
     "collapsed": false,
     "input": [
      "import csv\n",
      "\n",
      "datafile = open('loftus.csv', 'rU')\n",
      "hasheader = csv.Sniffer().has_header(datafile.read(1024))\n",
      "datafile.seek(0)\n",
      "data = []\n",
      "if hasheader == True:\n",
      "    rownum = 0\n",
      "    for row in datafile:\n",
      "        if rownum == 0:\n",
      "            header = row.strip().split(',')\n",
      "        else:\n",
      "            data.append(row.strip().split(','))\n",
      "        rownum += 1\n",
      "else:\n",
      "    for row in datafile:\n",
      "        data.append(row.strip().split(','))\n",
      "datafile.close()\n"
     ],
     "language": "python",
     "metadata": {},
     "outputs": [],
     "prompt_number": 1
    },
    {
     "cell_type": "markdown",
     "metadata": {},
     "source": [
      "#### Exercise 1: Turn the import command into a function for use with other data sets\n",
      "\n",
      "Hint: use the `sys` module"
     ]
    },
    {
     "cell_type": "code",
     "collapsed": false,
     "input": [],
     "language": "python",
     "metadata": {},
     "outputs": []
    },
    {
     "cell_type": "markdown",
     "metadata": {},
     "source": [
      "### Step 3: Examine your data set.\n",
      "#### What type of data do we have after import?\n",
      "First, the header:"
     ]
    },
    {
     "cell_type": "code",
     "collapsed": false,
     "input": [
      "type(header)"
     ],
     "language": "python",
     "metadata": {},
     "outputs": [
      {
       "output_type": "pyout",
       "prompt_number": 79,
       "text": [
        "list"
       ]
      }
     ],
     "prompt_number": 79
    },
    {
     "cell_type": "markdown",
     "metadata": {},
     "source": [
      "Now the data:"
     ]
    },
    {
     "cell_type": "code",
     "collapsed": false,
     "input": [
      "type(data)"
     ],
     "language": "python",
     "metadata": {},
     "outputs": [
      {
       "output_type": "pyout",
       "prompt_number": 80,
       "text": [
        "list"
       ]
      }
     ],
     "prompt_number": 80
    },
    {
     "cell_type": "markdown",
     "metadata": {},
     "source": [
      "#### What are the variables in your data set?\n",
      "First, let's get the number of list elements in the `header` list"
     ]
    },
    {
     "cell_type": "code",
     "collapsed": false,
     "input": [
      "h = len(header)\n",
      "print h"
     ],
     "language": "python",
     "metadata": {},
     "outputs": [
      {
       "output_type": "stream",
       "stream": "stdout",
       "text": [
        "7\n"
       ]
      }
     ],
     "prompt_number": 22
    },
    {
     "cell_type": "markdown",
     "metadata": {},
     "source": [
      "Seven is a reasonable number of headings to look at, so let's take a look:"
     ]
    },
    {
     "cell_type": "code",
     "collapsed": false,
     "input": [
      "print header"
     ],
     "language": "python",
     "metadata": {},
     "outputs": [
      {
       "output_type": "stream",
       "stream": "stdout",
       "text": [
        "['Participant', 'Condition Name', 'Condition Number', 'Age', 'IQ', 'Estimated Speed (mph)', 'Reaction Time (ms)']\n"
       ]
      }
     ],
     "prompt_number": 11
    },
    {
     "cell_type": "markdown",
     "metadata": {},
     "source": [
      "Now let's do the same for `data`.\n",
      "First, let's see how many elements are in the list"
     ]
    },
    {
     "cell_type": "code",
     "collapsed": false,
     "input": [
      "d = len(data)\n",
      "print d"
     ],
     "language": "python",
     "metadata": {},
     "outputs": [
      {
       "output_type": "stream",
       "stream": "stdout",
       "text": [
        "25000\n"
       ]
      }
     ],
     "prompt_number": 19
    },
    {
     "cell_type": "markdown",
     "metadata": {},
     "source": [
      "Now let's check that each list element has a list with 7 elements in it (to go with our headers)."
     ]
    },
    {
     "cell_type": "code",
     "collapsed": false,
     "input": [
      "rownum = 0\n",
      "for row in data:\n",
      "    r = len(row)\n",
      "    if r != h:\n",
      "        print 'Row ' + rownum + ' does not have ' + h + ' elements.'\n",
      "        print row\n",
      "print 'All done!'"
     ],
     "language": "python",
     "metadata": {},
     "outputs": [
      {
       "output_type": "stream",
       "stream": "stdout",
       "text": [
        "All done!\n"
       ]
      }
     ],
     "prompt_number": 36
    },
    {
     "cell_type": "markdown",
     "metadata": {},
     "source": [
      "Twenty-five thousand is too many elements to look at by eye.  Let's take a look at the first few elements:"
     ]
    },
    {
     "cell_type": "code",
     "collapsed": false,
     "input": [
      "data[0:10]"
     ],
     "language": "python",
     "metadata": {},
     "outputs": [
      {
       "output_type": "pyout",
       "prompt_number": 16,
       "text": [
        "[['1', 'Contact', '1', '38', '79', '35.34309684', '366.3496022'],\n",
        " ['2', 'Contact', '1', '60', '115', '33.17929371', '103.3719955'],\n",
        " ['3', 'Contact', '1', '55', '99', '45.32379901', '117.1909298'],\n",
        " ['4', 'Contact', '1', '37', '86', '42.66942264', '121.062926'],\n",
        " ['5', 'Contact', '1', '26', '96', '24.3133367', '300.7980271'],\n",
        " ['6', 'Contact', '1', '35', '100', '20.01894596', '353.0088051'],\n",
        " ['7', 'Contact', '1', '49', '117', '29.69251209', '228.1920257'],\n",
        " ['8', 'Contact', '1', '41', '114', '27.38630052', '254.788998'],\n",
        " ['9', 'Contact', '1', '53', '104', '27.50141729', '636.4364611'],\n",
        " ['10', 'Contact', '1', '56', '88', '39.48336299', '216.9692579']]"
       ]
      }
     ],
     "prompt_number": 16
    },
    {
     "cell_type": "markdown",
     "metadata": {},
     "source": [
      "Note that if you use the print statement, your output will look different"
     ]
    },
    {
     "cell_type": "code",
     "collapsed": false,
     "input": [
      "print data[0:10]"
     ],
     "language": "python",
     "metadata": {},
     "outputs": [
      {
       "output_type": "stream",
       "stream": "stdout",
       "text": [
        "[['1', 'Contact', '1', '38', '79', '35.34309684', '366.3496022'], ['2', 'Contact', '1', '60', '115', '33.17929371', '103.3719955'], ['3', 'Contact', '1', '55', '99', '45.32379901', '117.1909298'], ['4', 'Contact', '1', '37', '86', '42.66942264', '121.062926'], ['5', 'Contact', '1', '26', '96', '24.3133367', '300.7980271'], ['6', 'Contact', '1', '35', '100', '20.01894596', '353.0088051'], ['7', 'Contact', '1', '49', '117', '29.69251209', '228.1920257'], ['8', 'Contact', '1', '41', '114', '27.38630052', '254.788998'], ['9', 'Contact', '1', '53', '104', '27.50141729', '636.4364611'], ['10', 'Contact', '1', '56', '88', '39.48336299', '216.9692579']]\n"
       ]
      }
     ],
     "prompt_number": 15
    },
    {
     "cell_type": "markdown",
     "metadata": {},
     "source": [
      "Why do you think this happens?"
     ]
    },
    {
     "cell_type": "markdown",
     "metadata": {},
     "source": [
      "#### Exercise 2: Write a script that will extract the variable `Estimated speed (mph)` and the `condition name` that goes with each element of the variable."
     ]
    },
    {
     "cell_type": "markdown",
     "metadata": {},
     "source": [
      "Now let's check that all the data in the variable `Estimated speed (mph)` are in the same format."
     ]
    },
    {
     "cell_type": "code",
     "collapsed": false,
     "input": [],
     "language": "python",
     "metadata": {},
     "outputs": []
    }
   ],
   "metadata": {}
  }
 ]
}