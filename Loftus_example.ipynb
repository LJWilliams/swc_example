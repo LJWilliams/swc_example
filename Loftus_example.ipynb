{
 "metadata": {
  "name": "Loftus_example"
 },
 "nbformat": 3,
 "nbformat_minor": 0,
 "worksheets": [
  {
   "cells": [
    {
     "cell_type": "markdown",
     "metadata": {},
     "source": [
      "#Putting it all together\n",
      "\n",
      "## Taking off with Loftus ...\n",
      "\n",
      "(From Abdi, Edelman, Valentin & Dowling, 2009; Williams, Krishnan, & Abdi, 2009)\n",
      "\n",
      "-------------\n",
      "\n",
      "In the 1970s Elizabeth Loftus (Loftus and Palmer, 1974) conducted a series of experiments on the theme of eyewitness testimony. They wanted to find out whether the wording of a question affected the later responses of witnesses. To do this she showed subjects a film of a car accident. Following the film, she asked them a series of questions. Among the questions was one of 5 versions of a critical question concerning the speed the vehicles were travelling in miles per hour. Here are the 5 versions of the question along with the experimental condition in which they occurred:\n",
      "\n",
      "* HIT: About how fast were the cars going when they _hit_ each other?\n",
      "\n",
      "* SMASH: About how fast were the cars going when they _smashed into_ each other?\n",
      "\n",
      "* COLLIDE: About how fast were the cars going when they _collided with_ each other?\n",
      "\n",
      "* BUMP: About how fast were the cars going when they _bumped_ each other?\n",
      "\n",
      "* CONTACT: About how fast were the cars going when they _contacted_ each other?\n",
      "\n",
      "\n",
      "Software Carpentry conducted a (ficticious) replication of the study in an online survey. The results are in the file loftus.csv. \n",
      "\n",
      "We want to be able to answer the question: _Does the wording of the question affect witnesses' estimation of the speed the vehicles were traveling?_"
     ]
    },
    {
     "cell_type": "markdown",
     "metadata": {},
     "source": [
      "----------------------\n",
      "\n",
      "### Before we begin\n",
      "\n",
      "Download and install the `statsmodels 0.5` module. First clone the repository from `github`  from `git clone git://github.com/statsmodels/statsmodels.git`. You will also need to install `patsy`.  Using `pip` enter `pip install patsy` at the command line. Everything else should have come with your installation of `Anaconda`. Following the installation of `patsy`, navigate to the directory where you put the statsmodels repository. Once there, type `python setup.py build` and finally `python setup.py install`.\n",
      "\n",
      "The `statsmodels` module has many useful statistical features that will benefit your work. The latest release allows you to build statistical models using R-like syntax, but with the readability of python. Documentation is available from http://statsmodels.sourceforge.net/."
     ]
    },
    {
     "cell_type": "markdown",
     "metadata": {},
     "source": [
      "### Step 1: Import the .csv file\n"
     ]
    },
    {
     "cell_type": "code",
     "collapsed": false,
     "input": [
      "datafile = open('loftus.csv', 'rU')\n",
      "data = []\n",
      "for row in datafile:\n",
      "    data.append(row.strip().split(','))\n",
      "datafile.close()"
     ],
     "language": "python",
     "metadata": {},
     "outputs": [],
     "prompt_number": 565
    },
    {
     "cell_type": "markdown",
     "metadata": {},
     "source": [
      "####Step 1a: Turn this bit of code into a function"
     ]
    },
    {
     "cell_type": "code",
     "collapsed": false,
     "input": [
      "def open_csv_file(filename):\n",
      "    '''(str) -> str\n",
      "    \n",
      "    open_csv_file opens a csv file called filename and \n",
      "    returns the information in the datafile in python \n",
      "    readable format\n",
      "    \n",
      "    example:\n",
      "    open_csv_file('loftus.csv')\n",
      "    '''\n",
      "    \n",
      "    datafile = open(filename, 'rU')\n",
      "    data = []\n",
      "    for row in datafile:\n",
      "        data.append(row.strip().split(','))\n",
      "    datafile.close()\n",
      "    return data"
     ],
     "language": "python",
     "metadata": {},
     "outputs": []
    },
    {
     "cell_type": "markdown",
     "metadata": {},
     "source": [
      "### Step 2: Get header row\n",
      "#### If you know that the data file has a header row:"
     ]
    },
    {
     "cell_type": "code",
     "collapsed": false,
     "input": [
      "datafile = open('loftus.csv', 'rU')\n",
      "data = []\n",
      "rownum = 0\n",
      "for row in datafile:\n",
      "    if rownum == 0:\n",
      "        header = row\n",
      "    else:\n",
      "        data.append(row.strip().split(','))\n",
      "    rownum += 1\n",
      "datafile.close()"
     ],
     "language": "python",
     "metadata": {},
     "outputs": [],
     "prompt_number": 566
    },
    {
     "cell_type": "markdown",
     "metadata": {},
     "source": [
      "#### But what if you don't know if the data has a header row?\n",
      "\n",
      "Use the `csv` module\n",
      "\n",
      "The `has_header` method of the `Sniffer` class returns `True` if the first line of the data is likely to be a header row. "
     ]
    },
    {
     "cell_type": "code",
     "collapsed": false,
     "input": [
      "import csv\n",
      "\n",
      "datafile = open('loftus.csv', 'rU')\n",
      "hasheader = csv.Sniffer().has_header(datafile.read(1024))\n",
      "datafile.seek(0)\n",
      "data = []\n",
      "if hasheader == True:\n",
      "    rownum = 0\n",
      "    for row in datafile:\n",
      "        if rownum == 0:\n",
      "            header = row.strip().split(',')\n",
      "        else:\n",
      "            data.append(row.strip().split(','))\n",
      "        rownum += 1\n",
      "else:\n",
      "    for row in datafile:\n",
      "        data.append(row.strip().split(','))\n",
      "datafile.close()"
     ],
     "language": "python",
     "metadata": {},
     "outputs": [],
     "prompt_number": 567
    },
    {
     "cell_type": "markdown",
     "metadata": {},
     "source": [
      "TURN ABOVE INTO FUNCTION!"
     ]
    },
    {
     "cell_type": "markdown",
     "metadata": {},
     "source": [
      "### Step 3: Examine your data set.\n",
      "#### What type of data do we have after import?\n",
      "First, the header:"
     ]
    },
    {
     "cell_type": "code",
     "collapsed": false,
     "input": [
      "type(header)"
     ],
     "language": "python",
     "metadata": {},
     "outputs": [
      {
       "output_type": "pyout",
       "prompt_number": 568,
       "text": [
        "list"
       ]
      }
     ],
     "prompt_number": 568
    },
    {
     "cell_type": "markdown",
     "metadata": {},
     "source": [
      "Now the data:"
     ]
    },
    {
     "cell_type": "code",
     "collapsed": false,
     "input": [
      "type(data)"
     ],
     "language": "python",
     "metadata": {},
     "outputs": [
      {
       "output_type": "pyout",
       "prompt_number": 569,
       "text": [
        "list"
       ]
      }
     ],
     "prompt_number": 569
    },
    {
     "cell_type": "markdown",
     "metadata": {},
     "source": [
      "#### What are the variables in your data set?\n",
      "First, let's get the number of list elements in the `header` list"
     ]
    },
    {
     "cell_type": "code",
     "collapsed": false,
     "input": [
      "h = len(header)\n",
      "print h"
     ],
     "language": "python",
     "metadata": {},
     "outputs": [
      {
       "output_type": "stream",
       "stream": "stdout",
       "text": [
        "7\n"
       ]
      }
     ],
     "prompt_number": 570
    },
    {
     "cell_type": "markdown",
     "metadata": {},
     "source": [
      "Seven is a reasonable number of headings to look at, so let's take a look:"
     ]
    },
    {
     "cell_type": "code",
     "collapsed": false,
     "input": [
      "print header"
     ],
     "language": "python",
     "metadata": {},
     "outputs": [
      {
       "output_type": "stream",
       "stream": "stdout",
       "text": [
        "['Participant', 'Condition Name', 'Condition Number', 'Age', 'IQ', 'Estimated Speed (mph)', 'Reaction Time (ms)']\n"
       ]
      }
     ],
     "prompt_number": 571
    },
    {
     "cell_type": "markdown",
     "metadata": {},
     "source": [
      "Now let's do the same for `data`.\n",
      "First, let's see how many elements are in the list"
     ]
    },
    {
     "cell_type": "code",
     "collapsed": false,
     "input": [
      "d = len(data)\n",
      "print d"
     ],
     "language": "python",
     "metadata": {},
     "outputs": [
      {
       "output_type": "stream",
       "stream": "stdout",
       "text": [
        "25000\n"
       ]
      }
     ],
     "prompt_number": 572
    },
    {
     "cell_type": "markdown",
     "metadata": {},
     "source": [
      "Now let's check that each list element has a list with 7 elements in it (to go with our headers)."
     ]
    },
    {
     "cell_type": "code",
     "collapsed": false,
     "input": [
      "rownum = 0\n",
      "for row in data:\n",
      "    r = len(row)\n",
      "    if r != h:\n",
      "        print 'Row ' + rownum + ' does not have ' + h + ' elements.'\n",
      "        print row\n",
      "print 'All done!'"
     ],
     "language": "python",
     "metadata": {},
     "outputs": [
      {
       "output_type": "stream",
       "stream": "stdout",
       "text": [
        "All done!\n"
       ]
      }
     ],
     "prompt_number": 573
    },
    {
     "cell_type": "markdown",
     "metadata": {},
     "source": [
      "Twenty-five thousand is too many elements to look at by eye.  Let's take a look at the first few elements:"
     ]
    },
    {
     "cell_type": "code",
     "collapsed": false,
     "input": [
      "data[0:10]"
     ],
     "language": "python",
     "metadata": {},
     "outputs": [
      {
       "output_type": "pyout",
       "prompt_number": 574,
       "text": [
        "[['1', 'Contact', '1', '38', '79', '35.34309684', '366.3496022'],\n",
        " ['2', 'Contact', '1', '60', '115', '33.17929371', '103.3719955'],\n",
        " ['3', 'Contact', '1', '55', '99', '45.32379901', '117.1909298'],\n",
        " ['4', 'Contact', '1', '37', '86', '42.66942264', '121.062926'],\n",
        " ['5', 'Contact', '1', '26', '96', '24.3133367', '300.7980271'],\n",
        " ['6', 'Contact', '1', '35', '100', '20.01894596', '353.0088051'],\n",
        " ['7', 'Contact', '1', '49', '117', '29.69251209', '228.1920257'],\n",
        " ['8', 'Contact', '1', '41', '114', '27.38630052', '254.788998'],\n",
        " ['9', 'Contact', '1', '53', '104', '27.50141729', '636.4364611'],\n",
        " ['10', 'Contact', '1', '56', '88', '39.48336299', '216.9692579']]"
       ]
      }
     ],
     "prompt_number": 574
    },
    {
     "cell_type": "markdown",
     "metadata": {},
     "source": [
      "Note that if you use the print statement, your output will look different"
     ]
    },
    {
     "cell_type": "code",
     "collapsed": false,
     "input": [
      "print data[0:10]"
     ],
     "language": "python",
     "metadata": {},
     "outputs": [
      {
       "output_type": "stream",
       "stream": "stdout",
       "text": [
        "[['1', 'Contact', '1', '38', '79', '35.34309684', '366.3496022'], ['2', 'Contact', '1', '60', '115', '33.17929371', '103.3719955'], ['3', 'Contact', '1', '55', '99', '45.32379901', '117.1909298'], ['4', 'Contact', '1', '37', '86', '42.66942264', '121.062926'], ['5', 'Contact', '1', '26', '96', '24.3133367', '300.7980271'], ['6', 'Contact', '1', '35', '100', '20.01894596', '353.0088051'], ['7', 'Contact', '1', '49', '117', '29.69251209', '228.1920257'], ['8', 'Contact', '1', '41', '114', '27.38630052', '254.788998'], ['9', 'Contact', '1', '53', '104', '27.50141729', '636.4364611'], ['10', 'Contact', '1', '56', '88', '39.48336299', '216.9692579']]\n"
       ]
      }
     ],
     "prompt_number": 575
    },
    {
     "cell_type": "markdown",
     "metadata": {},
     "source": [
      "Why do you think this happens?"
     ]
    },
    {
     "cell_type": "markdown",
     "metadata": {},
     "source": [
      "#### Find the columns associated with each of the variables of interest.\n",
      "\n",
      "First, extract the column indices."
     ]
    },
    {
     "cell_type": "code",
     "collapsed": false,
     "input": [
      "colspeed = header.index('Estimated Speed (mph)')\n",
      "print colspeed\n"
     ],
     "language": "python",
     "metadata": {},
     "outputs": [
      {
       "output_type": "stream",
       "stream": "stdout",
       "text": [
        "5\n"
       ]
      }
     ],
     "prompt_number": 576
    },
    {
     "cell_type": "code",
     "collapsed": false,
     "input": [
      "colcondname = header.index('Condition Name')\n",
      "print colcondname"
     ],
     "language": "python",
     "metadata": {},
     "outputs": [
      {
       "output_type": "stream",
       "stream": "stdout",
       "text": [
        "1\n"
       ]
      }
     ],
     "prompt_number": 577
    },
    {
     "cell_type": "markdown",
     "metadata": {},
     "source": [
      "#### Now, extract the data."
     ]
    },
    {
     "cell_type": "code",
     "collapsed": false,
     "input": [
      "speed = [x[colspeed] for x in data]\n",
      "print speed[0:10]"
     ],
     "language": "python",
     "metadata": {},
     "outputs": [
      {
       "output_type": "stream",
       "stream": "stdout",
       "text": [
        "['35.34309684', '33.17929371', '45.32379901', '42.66942264', '24.3133367', '20.01894596', '29.69251209', '27.38630052', '27.50141729', '39.48336299']\n"
       ]
      }
     ],
     "prompt_number": 578
    },
    {
     "cell_type": "code",
     "collapsed": false,
     "input": [
      "condname = [x[colcondname] for x in data]\n",
      "print condname[0:10]"
     ],
     "language": "python",
     "metadata": {},
     "outputs": [
      {
       "output_type": "stream",
       "stream": "stdout",
       "text": [
        "['Contact', 'Contact', 'Contact', 'Contact', 'Contact', 'Contact', 'Contact', 'Contact', 'Contact', 'Contact']\n"
       ]
      }
     ],
     "prompt_number": 579
    },
    {
     "cell_type": "markdown",
     "metadata": {},
     "source": [
      "#### Now let's see how many conditions we have and what the conditions are.\n",
      "\n",
      "##### First, we need to get the unique conditions. \n",
      "\n",
      "The `set` function will give you a set of unique names. To turn this set back into a list, use the `list` function."
     ]
    },
    {
     "cell_type": "code",
     "collapsed": false,
     "input": [
      "conditions = list(set(condname))\n",
      "print conditions"
     ],
     "language": "python",
     "metadata": {},
     "outputs": [
      {
       "output_type": "stream",
       "stream": "stdout",
       "text": [
        "['Smash', 'Hit', 'Bump', 'Collide', 'Contact', 'Sash']\n"
       ]
      }
     ],
     "prompt_number": 580
    },
    {
     "cell_type": "markdown",
     "metadata": {},
     "source": [
      "And now we can use `len` to get the number of different conditions."
     ]
    },
    {
     "cell_type": "code",
     "collapsed": false,
     "input": [
      "ncond = len(conditions)\n",
      "print ncond"
     ],
     "language": "python",
     "metadata": {},
     "outputs": [
      {
       "output_type": "stream",
       "stream": "stdout",
       "text": [
        "6\n"
       ]
      }
     ],
     "prompt_number": 581
    },
    {
     "cell_type": "markdown",
     "metadata": {},
     "source": [
      "Not so good. We have a listing for 6 conditions, when we really have 5. \n",
      "\n",
      "* HIT: About how fast were the cars going when they _hit_ each other?\n",
      "\n",
      "* SMASH: About how fast were the cars going when they _smashed into_ each other?\n",
      "\n",
      "* COLLIDE: About how fast were the cars going when they _collided with_ each other?\n",
      "\n",
      "* BUMP: About how fast were the cars going when they _bumped_ each other?\n",
      "\n",
      "* CONTACT: About how fast were the cars going when they _contacted_ each other?\n",
      "\n",
      "It looks like somebody mistyped the label for the `Smash` condition. We need to fix this before we go on.\n"
     ]
    },
    {
     "cell_type": "markdown",
     "metadata": {},
     "source": [
      "We need to check whether our hypothesis is correct. Let's count the number of instances of each condition."
     ]
    },
    {
     "cell_type": "code",
     "collapsed": false,
     "input": [
      "idx = 0\n",
      "indices = []\n",
      "for cond in conditions:\n",
      "    indices.append([i for i, x in enumerate(condname) if x == cond])\n",
      "    print len(indices[idx])\n",
      "    idx += 1"
     ],
     "language": "python",
     "metadata": {},
     "outputs": [
      {
       "output_type": "stream",
       "stream": "stdout",
       "text": [
        "4998\n",
        "5000\n",
        "5000\n",
        "5000"
       ]
      },
      {
       "output_type": "stream",
       "stream": "stdout",
       "text": [
        "\n",
        "5000\n",
        "2\n"
       ]
      }
     ],
     "prompt_number": 582
    },
    {
     "cell_type": "markdown",
     "metadata": {},
     "source": [
      "It looks like we were correct.  Let's replace the elements `Sash` with `Smash`."
     ]
    },
    {
     "cell_type": "code",
     "collapsed": false,
     "input": [
      "for idx, item in enumerate(condname):\n",
      "    if item == \"Sash\":\n",
      "        condname[idx]=\"Smash\"\n",
      "        print \"Element \" + str(idx) + \" (\" + str(item) + \") replaced with Smash\" \n"
     ],
     "language": "python",
     "metadata": {},
     "outputs": [
      {
       "output_type": "stream",
       "stream": "stdout",
       "text": [
        "Element 20261 (Sash) replaced with Smash\n",
        "Element 20282 (Sash) replaced with Smash\n"
       ]
      }
     ],
     "prompt_number": 583
    },
    {
     "cell_type": "code",
     "collapsed": false,
     "input": [
      "conditions = list(set(condname))\n",
      "print conditions\n",
      "\n",
      "### Note to self: FINISH THIS"
     ],
     "language": "python",
     "metadata": {},
     "outputs": [
      {
       "output_type": "stream",
       "stream": "stdout",
       "text": [
        "['Bump', 'Smash', 'Contact', 'Hit', 'Collide']\n"
       ]
      }
     ],
     "prompt_number": 584
    },
    {
     "cell_type": "markdown",
     "metadata": {},
     "source": [
      "##### Now let's check that the data in the variable `Estimated speed (mph)` are entered correctly.\n",
      "\n",
      "Let's check the type of the variable `speed`."
     ]
    },
    {
     "cell_type": "code",
     "collapsed": false,
     "input": [
      "type(speed)"
     ],
     "language": "python",
     "metadata": {},
     "outputs": [
      {
       "output_type": "pyout",
       "prompt_number": 585,
       "text": [
        "list"
       ]
      }
     ],
     "prompt_number": 585
    },
    {
     "cell_type": "markdown",
     "metadata": {},
     "source": [
      "Now the elements:"
     ]
    },
    {
     "cell_type": "code",
     "collapsed": false,
     "input": [
      "count = 0\n",
      "format = []\n",
      "for item in speed:\n",
      "    format.append(type(speed[count]))\n",
      "    count += 1\n",
      "list(set(format))"
     ],
     "language": "python",
     "metadata": {},
     "outputs": [
      {
       "output_type": "pyout",
       "prompt_number": 586,
       "text": [
        "[str]"
       ]
      }
     ],
     "prompt_number": 586
    },
    {
     "cell_type": "markdown",
     "metadata": {},
     "source": [
      "Oops. The data is in the wrong format. We need either integers or floats, not strings."
     ]
    },
    {
     "cell_type": "code",
     "collapsed": false,
     "input": [
      "count = 0\n",
      "speedfloat=[]\n",
      "for item in speed:\n",
      "    speedfloat.append(float(speed[count]))\n",
      "    count += 1"
     ],
     "language": "python",
     "metadata": {},
     "outputs": [],
     "prompt_number": 587
    },
    {
     "cell_type": "markdown",
     "metadata": {},
     "source": [
      "#### To make our life easier, let's create a dictionary to associate values and condition names"
     ]
    },
    {
     "cell_type": "code",
     "collapsed": false,
     "input": [
      "datadict = dict()\n",
      "count = 0\n",
      "for name in condname:\n",
      "    if name in datadict:\n",
      "        # append the new number to the existing array at this slot\n",
      "        datadict[name].append(speedfloat[count])\n",
      "    else:\n",
      "        # create a new array in this s            \n",
      "        datadict[name] = [speedfloat[count]]\n",
      "    count += 1"
     ],
     "language": "python",
     "metadata": {},
     "outputs": [],
     "prompt_number": 588
    },
    {
     "cell_type": "markdown",
     "metadata": {},
     "source": [
      "#### Now we can reformat the data to use with the `pandas` and `scipy` modules for statistical analysis.\n",
      "\n",
      "First, let's import the modules we will need"
     ]
    },
    {
     "cell_type": "code",
     "collapsed": false,
     "input": [
      "import pandas as pd\n",
      "import numpy as np\n",
      "from scipy import stats"
     ],
     "language": "python",
     "metadata": {},
     "outputs": [],
     "prompt_number": 589
    },
    {
     "cell_type": "markdown",
     "metadata": {},
     "source": [
      "Now, we can turn our dictionary into a `pandas` dataframe."
     ]
    },
    {
     "cell_type": "code",
     "collapsed": false,
     "input": [
      "df = pd.DataFrame(datadict)\n",
      "print df"
     ],
     "language": "python",
     "metadata": {},
     "outputs": [
      {
       "output_type": "stream",
       "stream": "stdout",
       "text": [
        "<class 'pandas.core.frame.DataFrame'>\n",
        "Int64Index: 5000 entries, 0 to 4999\n",
        "Data columns (total 5 columns):\n",
        "Bump       5000  non-null values\n",
        "Collide    5000  non-null values\n",
        "Contact    5000  non-null values\n",
        "Hit        5000  non-null values\n",
        "Smash      5000  non-null values\n",
        "dtypes: float64(5)\n"
       ]
      }
     ],
     "prompt_number": 590
    },
    {
     "cell_type": "markdown",
     "metadata": {},
     "source": [
      "#### Let's take a look at the dataframe"
     ]
    },
    {
     "cell_type": "code",
     "collapsed": false,
     "input": [
      "print df.head()"
     ],
     "language": "python",
     "metadata": {},
     "outputs": [
      {
       "output_type": "stream",
       "stream": "stdout",
       "text": [
        "     Bump  Collide    Contact     Hit   Smash\n",
        "0  45.601   43.872  35.343097  18.298  40.810\n",
        "1  45.452   35.219  33.179294  46.845  48.751\n",
        "2  42.071   30.035  45.323799  12.501  49.430\n",
        "3  30.303   46.574  42.669423  32.120  51.688\n",
        "4  27.146   40.785  24.313337  39.203  57.690\n"
       ]
      }
     ],
     "prompt_number": 591
    },
    {
     "cell_type": "code",
     "collapsed": false,
     "input": [
      "print df.tail()"
     ],
     "language": "python",
     "metadata": {},
     "outputs": [
      {
       "output_type": "stream",
       "stream": "stdout",
       "text": [
        "        Bump  Collide  Contact     Hit   Smash\n",
        "4995  23.902   43.902   27.352  23.896  42.378\n",
        "4996  44.808   44.686   27.962  26.561  46.275\n",
        "4997  58.433   39.162   42.062  35.872  35.883\n",
        "4998  47.236   31.987   23.697  24.000  47.574\n",
        "4999  31.359   49.443   23.715  34.286  48.763\n"
       ]
      }
     ],
     "prompt_number": 592
    },
    {
     "cell_type": "markdown",
     "metadata": {},
     "source": [
      "#### Now it's time for some descriptive statistics.\n",
      "We can look at each type of descriptive statistic separately:"
     ]
    },
    {
     "cell_type": "code",
     "collapsed": false,
     "input": [
      "condmean = df.mean()\n",
      "print condmean"
     ],
     "language": "python",
     "metadata": {},
     "outputs": [
      {
       "output_type": "stream",
       "stream": "stdout",
       "text": [
        "Bump       37.999997\n",
        "Collide    41.000002\n",
        "Contact    29.999999\n",
        "Hit        34.999997\n",
        "Smash      46.000005\n",
        "dtype: float64\n"
       ]
      }
     ],
     "prompt_number": 593
    },
    {
     "cell_type": "code",
     "collapsed": false,
     "input": [
      "condvar = df.var()\n",
      "print condvar"
     ],
     "language": "python",
     "metadata": {},
     "outputs": [
      {
       "output_type": "stream",
       "stream": "stdout",
       "text": [
        "Bump       122.222092\n",
        "Collide     41.555552\n",
        "Contact    116.444323\n",
        "Hit         86.444395\n",
        "Smash       33.333344\n",
        "dtype: float64\n"
       ]
      }
     ],
     "prompt_number": 594
    },
    {
     "cell_type": "code",
     "collapsed": false,
     "input": [
      "condstd = df.std()\n",
      "print condstd"
     ],
     "language": "python",
     "metadata": {},
     "outputs": [
      {
       "output_type": "stream",
       "stream": "stdout",
       "text": [
        "Bump       11.055410\n",
        "Collide     6.446360\n",
        "Contact    10.790937\n",
        "Hit         9.297548\n",
        "Smash       5.773504\n",
        "dtype: float64\n"
       ]
      }
     ],
     "prompt_number": 595
    },
    {
     "cell_type": "markdown",
     "metadata": {},
     "source": [
      "Or, we can get them all together:"
     ]
    },
    {
     "cell_type": "code",
     "collapsed": false,
     "input": [
      "descriptives = df.describe()\n",
      "print descriptives"
     ],
     "language": "python",
     "metadata": {},
     "outputs": [
      {
       "output_type": "stream",
       "stream": "stdout",
       "text": [
        "              Bump      Collide      Contact          Hit        Smash\n",
        "count  5000.000000  5000.000000  5000.000000  5000.000000  5000.000000\n",
        "mean     37.999997    41.000002    29.999999    34.999997    46.000005\n",
        "std      11.055410     6.446360    10.790937     9.297548     5.773504\n",
        "min       0.954110    19.711000    -7.928400     2.039300    24.962000\n",
        "25%      30.680000    36.764250    22.807250    28.776750    42.158250\n",
        "50%      38.002000    41.076500    30.086527    35.003500    46.083500\n",
        "75%      45.564250    45.309250    37.378500    41.291750    49.801000\n",
        "max      75.173000    61.102000    66.337000    68.553000    66.631000\n"
       ]
      }
     ],
     "prompt_number": 596
    },
    {
     "cell_type": "markdown",
     "metadata": {},
     "source": [
      "Maybe a negative speed means the estimated speed was in reverse?\n",
      "\n",
      "\n",
      "#### Now we can plot our data\n",
      "First, import `pylab` "
     ]
    },
    {
     "cell_type": "code",
     "collapsed": false,
     "input": [
      "%pylab inline \n",
      "\n",
      "from pylab import *"
     ],
     "language": "python",
     "metadata": {},
     "outputs": [
      {
       "output_type": "stream",
       "stream": "stdout",
       "text": [
        "\n",
        "Welcome to pylab, a matplotlib-based Python environment [backend: module://IPython.zmq.pylab.backend_inline].\n",
        "For more information, type 'help(pylab)'.\n"
       ]
      }
     ],
     "prompt_number": 597
    },
    {
     "cell_type": "markdown",
     "metadata": {},
     "source": [
      "Now, let's plot our means"
     ]
    },
    {
     "cell_type": "code",
     "collapsed": false,
     "input": [
      "df.mean().plot(kind='line')"
     ],
     "language": "python",
     "metadata": {},
     "outputs": [
      {
       "output_type": "pyout",
       "prompt_number": 598,
       "text": [
        "<matplotlib.axes.AxesSubplot at 0x3e421b0>"
       ]
      },
      {
       "output_type": "display_data",
       "png": "[encoded data removed]"
      }
     ],
     "prompt_number": 598
    },
    {
     "cell_type": "markdown",
     "metadata": {},
     "source": [
      "and take a look at the boxplot"
     ]
    },
    {
     "cell_type": "code",
     "collapsed": false,
     "input": [
      "plt.figure();\n",
      "bp = df.boxplot()"
     ],
     "language": "python",
     "metadata": {},
     "outputs": [
      {
       "output_type": "display_data",
       "png": "[encoded data removed]"
      }
     ],
     "prompt_number": 599
    },
    {
     "cell_type": "markdown",
     "metadata": {},
     "source": [
      "#### Now, let's run an ANOVA\n",
      "\n",
      "I like to have the full data output, so we will use the functions built into the `statsmodels` module. We also want to be able to use our `pandas` dataframe, so we will need to import the `patsy` module."
     ]
    },
    {
     "cell_type": "code",
     "collapsed": false,
     "input": [
      "import statsmodels.api as sm\n",
      "import statsmodels.sandbox as sand"
     ],
     "language": "python",
     "metadata": {},
     "outputs": [],
     "prompt_number": 600
    },
    {
     "cell_type": "markdown",
     "metadata": {},
     "source": [
      "Although the format of `df` is great for getting descriptive statistics, we need a different format for running the ANOVA."
     ]
    },
    {
     "cell_type": "code",
     "collapsed": false,
     "input": [
      "df_long = pd.DataFrame(zip(condname,speedfloat), columns=['condname', 'speed'])\n",
      "print df_long\n",
      "df_long.head()"
     ],
     "language": "python",
     "metadata": {},
     "outputs": [
      {
       "output_type": "stream",
       "stream": "stdout",
       "text": [
        "<class 'pandas.core.frame.DataFrame'>\n",
        "Int64Index: 25000 entries, 0 to 24999\n",
        "Data columns (total 2 columns):\n",
        "condname    25000  non-null values\n",
        "speed       25000  non-null values\n",
        "dtypes: float64(1), object(1)\n"
       ]
      },
      {
       "html": [
        "<div style=\"max-height:1000px;max-width:1500px;overflow:auto;\">\n",
        "<table border=\"1\" class=\"dataframe\">\n",
        "  <thead>\n",
        "    <tr style=\"text-align: right;\">\n",
        "      <th></th>\n",
        "      <th>condname</th>\n",
        "      <th>speed</th>\n",
        "    </tr>\n",
        "  </thead>\n",
        "  <tbody>\n",
        "    <tr>\n",
        "      <th>0</th>\n",
        "      <td> Contact</td>\n",
        "      <td> 35.343097</td>\n",
        "    </tr>\n",
        "    <tr>\n",
        "      <th>1</th>\n",
        "      <td> Contact</td>\n",
        "      <td> 33.179294</td>\n",
        "    </tr>\n",
        "    <tr>\n",
        "      <th>2</th>\n",
        "      <td> Contact</td>\n",
        "      <td> 45.323799</td>\n",
        "    </tr>\n",
        "    <tr>\n",
        "      <th>3</th>\n",
        "      <td> Contact</td>\n",
        "      <td> 42.669423</td>\n",
        "    </tr>\n",
        "    <tr>\n",
        "      <th>4</th>\n",
        "      <td> Contact</td>\n",
        "      <td> 24.313337</td>\n",
        "    </tr>\n",
        "  </tbody>\n",
        "</table>\n",
        "</div>"
       ],
       "output_type": "pyout",
       "prompt_number": 601,
       "text": [
        "  condname      speed\n",
        "0  Contact  35.343097\n",
        "1  Contact  33.179294\n",
        "2  Contact  45.323799\n",
        "3  Contact  42.669423\n",
        "4  Contact  24.313337"
       ]
      }
     ],
     "prompt_number": 601
    },
    {
     "cell_type": "markdown",
     "metadata": {},
     "source": [
      "Now to actually run the ANOVA.  Just as a reminder (for those whose stats are a bit rusty) the an ANOVA is just a special case of OLS regression, so we will run the regression model here. "
     ]
    },
    {
     "cell_type": "code",
     "collapsed": false,
     "input": [
      "results = sm.OLS.from_formula('speed ~ C(condname)', df_long).fit()"
     ],
     "language": "python",
     "metadata": {},
     "outputs": [],
     "prompt_number": 602
    },
    {
     "cell_type": "markdown",
     "metadata": {},
     "source": [
      "where, `speed` is the dependent variable, `C()` means that `condname` is a categorical variable, and `condname` is the independent variable."
     ]
    },
    {
     "cell_type": "code",
     "collapsed": false,
     "input": [
      "print results.summary()"
     ],
     "language": "python",
     "metadata": {},
     "outputs": [
      {
       "output_type": "stream",
       "stream": "stdout",
       "text": [
        "                            OLS Regression Results                            \n",
        "==============================================================================\n",
        "Dep. Variable:                  speed   R-squared:                       0.267\n",
        "Model:                            OLS   Adj. R-squared:                  0.267\n",
        "Method:                 Least Squares   F-statistic:                     2281.\n",
        "Date:                Mon, 22 Jul 2013   Prob (F-statistic):               0.00\n",
        "Time:                        20:05:23   Log-Likelihood:                -90246.\n",
        "No. Observations:               25000   AIC:                         1.805e+05\n",
        "Df Residuals:                   24995   BIC:                         1.805e+05\n",
        "Df Model:                           4                                         \n",
        "==========================================================================================\n",
        "                             coef    std err          t      P>|t|      [95.0% Conf. Int.]\n",
        "------------------------------------------------------------------------------------------\n",
        "Intercept                 38.0000      0.126    300.416      0.000        37.752    38.248\n",
        "C(condname)[T.Collide]     3.0000      0.179     16.771      0.000         2.649     3.351\n",
        "C(condname)[T.Contact]    -8.0000      0.179    -44.721      0.000        -8.351    -7.649\n",
        "C(condname)[T.Hit]        -3.0000      0.179    -16.771      0.000        -3.351    -2.649\n",
        "C(condname)[T.Smash]       8.0000      0.179     44.721      0.000         7.649     8.351\n",
        "==============================================================================\n",
        "Omnibus:                      210.373   Durbin-Watson:                   2.008\n",
        "Prob(Omnibus):                  0.000   Jarque-Bera (JB):              337.430\n",
        "Skew:                          -0.025   Prob(JB):                     5.35e-74\n",
        "Kurtosis:                       3.567   Cond. No.                         5.83\n",
        "==============================================================================\n"
       ]
      }
     ],
     "prompt_number": 603
    },
    {
     "cell_type": "markdown",
     "metadata": {},
     "source": [
      "To present the results as a traditional ANOVA table"
     ]
    },
    {
     "cell_type": "code",
     "collapsed": false,
     "input": [
      "from statsmodels.stats.anova import anova_lm\n",
      "\n",
      "anova_lm(results)\n"
     ],
     "language": "python",
     "metadata": {},
     "outputs": [
      {
       "html": [
        "<div style=\"max-height:1000px;max-width:1500px;overflow:auto;\">\n",
        "<table border=\"1\" class=\"dataframe\">\n",
        "  <thead>\n",
        "    <tr style=\"text-align: right;\">\n",
        "      <th></th>\n",
        "      <th>df</th>\n",
        "      <th>sum_sq</th>\n",
        "      <th>mean_sq</th>\n",
        "      <th>F</th>\n",
        "      <th>PR(&gt;F)</th>\n",
        "    </tr>\n",
        "  </thead>\n",
        "  <tbody>\n",
        "    <tr>\n",
        "      <th>C(condname)</th>\n",
        "      <td>     4</td>\n",
        "      <td>  730000.652181</td>\n",
        "      <td> 182500.163045</td>\n",
        "      <td> 2281.25372</td>\n",
        "      <td>  0</td>\n",
        "    </tr>\n",
        "    <tr>\n",
        "      <th>Residual</th>\n",
        "      <td> 24995</td>\n",
        "      <td> 1999598.525461</td>\n",
        "      <td>     79.999941</td>\n",
        "      <td>        NaN</td>\n",
        "      <td>NaN</td>\n",
        "    </tr>\n",
        "  </tbody>\n",
        "</table>\n",
        "</div>"
       ],
       "output_type": "pyout",
       "prompt_number": 604,
       "text": [
        "                df          sum_sq        mean_sq           F  PR(>F)\n",
        "C(condname)      4   730000.652181  182500.163045  2281.25372       0\n",
        "Residual     24995  1999598.525461      79.999941         NaN     NaN"
       ]
      }
     ],
     "prompt_number": 604
    },
    {
     "cell_type": "markdown",
     "metadata": {},
     "source": [
      "Now to run the post-hocs."
     ]
    },
    {
     "cell_type": "code",
     "collapsed": false,
     "input": [
      "conditions = pd.Categorical.from_array(df_long['condname'])\n",
      "print conditions"
     ],
     "language": "python",
     "metadata": {},
     "outputs": [
      {
       "output_type": "stream",
       "stream": "stdout",
       "text": [
        "Categorical: condname\n",
        "array(['Contact', 'Contact', 'Contact', ..., 'Smash', 'Smash', 'Smash'], dtype=object)\n",
        "Levels (5): Index(['Bump', 'Collide', 'Contact', 'Hit', 'Smash'], dtype=object)\n"
       ]
      }
     ],
     "prompt_number": 605
    },
    {
     "cell_type": "code",
     "collapsed": false,
     "input": [
      "mc = sand.stats.multicomp.MultiComparison(df_long['speed'], conditions.labels)"
     ],
     "language": "python",
     "metadata": {},
     "outputs": [],
     "prompt_number": 606
    },
    {
     "cell_type": "code",
     "collapsed": false,
     "input": [
      "posthoc = mc.tukeyhsd()\n",
      "print posthoc.summary() \n",
      "print zip(list((conditions.levels)), range(5))"
     ],
     "language": "python",
     "metadata": {},
     "outputs": [
      {
       "output_type": "stream",
       "stream": "stdout",
       "text": [
        "Multiple Comparison of Means - Tukey HSD,FWER=0.05\n",
        "=============================================\n",
        "group1 group2 meandiff  lower   upper  reject\n",
        "---------------------------------------------\n",
        "  0      1      3.0     2.512   3.488   True \n",
        "  0      2      -8.0    -8.488  -7.512  True \n",
        "  0      3      -3.0    -3.488  -2.512  True \n",
        "  0      4      8.0     7.512   8.488   True \n",
        "  1      2     -11.0   -11.488 -10.512  True \n",
        "  1      3      -6.0    -6.488  -5.512  True \n",
        "  1      4      5.0     4.512   5.488   True \n",
        "  2      3      5.0     4.512   5.488   True \n",
        "  2      4      16.0    15.512  16.488  True \n",
        "  3      4      11.0    10.512  11.488  True \n",
        "---------------------------------------------\n",
        "[('Bump', 0), ('Collide', 1), ('Contact', 2), ('Hit', 3), ('Smash', 4)]\n"
       ]
      }
     ],
     "prompt_number": 607
    },
    {
     "cell_type": "markdown",
     "metadata": {},
     "source": [
      "### So, does the wording of a question matter when eyewitnesses give testimony?\n",
      "\n",
      "YES!"
     ]
    },
    {
     "cell_type": "code",
     "collapsed": false,
     "input": [],
     "language": "python",
     "metadata": {},
     "outputs": []
    }
   ],
   "metadata": {}
  }
 ]
}