{
 "metadata": {
  "name": "Loftus_example"
 },
 "nbformat": 3,
 "nbformat_minor": 0,
 "worksheets": [
  {
   "cells": [
    {
     "cell_type": "markdown",
     "metadata": {},
     "source": [
      "#Putting it all together\n",
      "\n",
      "## Taking off with Loftus ...\n",
      "\n",
      "(From Abdi, Edelman, Valentin & Dowling, 2009; Williams, Krishnan, & Abdi, 2009)\n",
      "\n",
      "-------------\n",
      "\n",
      "In the 1970s Elizabeth Loftus (Loftus and Palmer, 1974) conducted a series of experiments on the theme of eyewitness testimony. They wanted to find out whether the wording of a question affected the later responses of witnesses. To do this she showed subjects a film of a car accident. Following the film, she asked them a series of questions. Among the questions was one of 5 versions of a critical question concerning the speed the vehicles were travelling in miles per hour. Here are the 5 versions of the question along with the experimental condition in which they occurred:\n",
      "\n",
      "* HIT: About how fast were the cars going when they _hit_ each other?\n",
      "\n",
      "* SMASH: About how fast were the cars going when they _smashed into_ each other?\n",
      "\n",
      "* COLLIDE: About how fast were the cars going when they _collided with_ each other?\n",
      "\n",
      "* BUMP: About how fast were the cars going when they _bumped_ each other?\n",
      "\n",
      "* CONTACT: About how fast were the cars going when they _contacted_ each other?\n",
      "\n",
      "\n",
      "Software Carpentry conducted a (ficticious) replication of the study in an online survey. The results are in the file loftus.csv. \n",
      "\n",
      "We want to be able to answer the question: _Does the wording of the question affect witnesses' estimation of the speed the vehicles were traveling?_"
     ]
    },
    {
     "cell_type": "markdown",
     "metadata": {},
     "source": [
      "### Step 1: Import the .csv file\n"
     ]
    },
    {
     "cell_type": "code",
     "collapsed": false,
     "input": [
      "datafile = open('loftus.csv', 'rU')\n",
      "data = []\n",
      "for row in datafile:\n",
      "    data.append(row.strip().split(','))\n",
      "datafile.close()"
     ],
     "language": "python",
     "metadata": {},
     "outputs": [],
     "prompt_number": 1
    },
    {
     "cell_type": "markdown",
     "metadata": {},
     "source": [
      "### Step 2: Get header row\n",
      "#### If you know that the data file has a header row:"
     ]
    },
    {
     "cell_type": "code",
     "collapsed": false,
     "input": [
      "datafile = open('loftus.csv', 'rU')\n",
      "data = []\n",
      "rownum = 0\n",
      "for row in datafile:\n",
      "    if rownum == 0:\n",
      "        header = row\n",
      "    else:\n",
      "        data.append(row.strip().split(','))\n",
      "    rownum += 1\n",
      "datafile.close()"
     ],
     "language": "python",
     "metadata": {},
     "outputs": [],
     "prompt_number": 2
    },
    {
     "cell_type": "markdown",
     "metadata": {},
     "source": [
      "#### But what if you don't know if the data has a header row?\n",
      "\n",
      "Use the `csv` module\n",
      "\n",
      "The `has_header` method of the `Sniffer` class returns `True` if the first line of the data is likely to be a header row. "
     ]
    },
    {
     "cell_type": "code",
     "collapsed": false,
     "input": [
      "import csv\n",
      "\n",
      "datafile = open('loftus.csv', 'rU')\n",
      "hasheader = csv.Sniffer().has_header(datafile.read(1024))\n",
      "datafile.seek(0)\n",
      "data = []\n",
      "if hasheader == True:\n",
      "    rownum = 0\n",
      "    for row in datafile:\n",
      "        if rownum == 0:\n",
      "            header = row.strip().split(',')\n",
      "        else:\n",
      "            data.append(row.strip().split(','))\n",
      "        rownum += 1\n",
      "else:\n",
      "    for row in datafile:\n",
      "        data.append(row.strip().split(','))\n",
      "datafile.close()\n"
     ],
     "language": "python",
     "metadata": {},
     "outputs": [],
     "prompt_number": 3
    },
    {
     "cell_type": "markdown",
     "metadata": {},
     "source": [
      "##### Exercise 1: Turn the import command into a function for use with other data sets\n",
      "\n",
      "Hint: use the `sys` module"
     ]
    },
    {
     "cell_type": "code",
     "collapsed": false,
     "input": [],
     "language": "python",
     "metadata": {},
     "outputs": [],
     "prompt_number": 3
    },
    {
     "cell_type": "markdown",
     "metadata": {},
     "source": [
      "### Step 3: Examine your data set.\n",
      "#### What type of data do we have after import?\n",
      "First, the header:"
     ]
    },
    {
     "cell_type": "code",
     "collapsed": false,
     "input": [
      "type(header)"
     ],
     "language": "python",
     "metadata": {},
     "outputs": [
      {
       "output_type": "pyout",
       "prompt_number": 4,
       "text": [
        "list"
       ]
      }
     ],
     "prompt_number": 4
    },
    {
     "cell_type": "markdown",
     "metadata": {},
     "source": [
      "Now the data:"
     ]
    },
    {
     "cell_type": "code",
     "collapsed": false,
     "input": [
      "type(data)"
     ],
     "language": "python",
     "metadata": {},
     "outputs": [
      {
       "output_type": "pyout",
       "prompt_number": 5,
       "text": [
        "list"
       ]
      }
     ],
     "prompt_number": 5
    },
    {
     "cell_type": "markdown",
     "metadata": {},
     "source": [
      "#### What are the variables in your data set?\n",
      "First, let's get the number of list elements in the `header` list"
     ]
    },
    {
     "cell_type": "code",
     "collapsed": false,
     "input": [
      "h = len(header)\n",
      "print h"
     ],
     "language": "python",
     "metadata": {},
     "outputs": [
      {
       "output_type": "stream",
       "stream": "stdout",
       "text": [
        "7\n"
       ]
      }
     ],
     "prompt_number": 6
    },
    {
     "cell_type": "markdown",
     "metadata": {},
     "source": [
      "Seven is a reasonable number of headings to look at, so let's take a look:"
     ]
    },
    {
     "cell_type": "code",
     "collapsed": false,
     "input": [
      "print header"
     ],
     "language": "python",
     "metadata": {},
     "outputs": [
      {
       "output_type": "stream",
       "stream": "stdout",
       "text": [
        "['Participant', 'Condition Name', 'Condition Number', 'Age', 'IQ', 'Estimated Speed (mph)', 'Reaction Time (ms)']\n"
       ]
      }
     ],
     "prompt_number": 7
    },
    {
     "cell_type": "markdown",
     "metadata": {},
     "source": [
      "Now let's do the same for `data`.\n",
      "First, let's see how many elements are in the list"
     ]
    },
    {
     "cell_type": "code",
     "collapsed": false,
     "input": [
      "d = len(data)\n",
      "print d"
     ],
     "language": "python",
     "metadata": {},
     "outputs": [
      {
       "output_type": "stream",
       "stream": "stdout",
       "text": [
        "25000\n"
       ]
      }
     ],
     "prompt_number": 8
    },
    {
     "cell_type": "markdown",
     "metadata": {},
     "source": [
      "Now let's check that each list element has a list with 7 elements in it (to go with our headers)."
     ]
    },
    {
     "cell_type": "code",
     "collapsed": false,
     "input": [
      "rownum = 0\n",
      "for row in data:\n",
      "    r = len(row)\n",
      "    if r != h:\n",
      "        print 'Row ' + rownum + ' does not have ' + h + ' elements.'\n",
      "        print row\n",
      "print 'All done!'"
     ],
     "language": "python",
     "metadata": {},
     "outputs": [
      {
       "output_type": "stream",
       "stream": "stdout",
       "text": [
        "All done!\n"
       ]
      }
     ],
     "prompt_number": 9
    },
    {
     "cell_type": "markdown",
     "metadata": {},
     "source": [
      "Twenty-five thousand is too many elements to look at by eye.  Let's take a look at the first few elements:"
     ]
    },
    {
     "cell_type": "code",
     "collapsed": false,
     "input": [
      "data[0:10]"
     ],
     "language": "python",
     "metadata": {},
     "outputs": [
      {
       "output_type": "pyout",
       "prompt_number": 10,
       "text": [
        "[['1', 'Contact', '1', '38', '79', '35.34309684', '366.3496022'],\n",
        " ['2', 'Contact', '1', '60', '115', '33.17929371', '103.3719955'],\n",
        " ['3', 'Contact', '1', '55', '99', '45.32379901', '117.1909298'],\n",
        " ['4', 'Contact', '1', '37', '86', '42.66942264', '121.062926'],\n",
        " ['5', 'Contact', '1', '26', '96', '24.3133367', '300.7980271'],\n",
        " ['6', 'Contact', '1', '35', '100', '20.01894596', '353.0088051'],\n",
        " ['7', 'Contact', '1', '49', '117', '29.69251209', '228.1920257'],\n",
        " ['8', 'Contact', '1', '41', '114', '27.38630052', '254.788998'],\n",
        " ['9', 'Contact', '1', '53', '104', '27.50141729', '636.4364611'],\n",
        " ['10', 'Contact', '1', '56', '88', '39.48336299', '216.9692579']]"
       ]
      }
     ],
     "prompt_number": 10
    },
    {
     "cell_type": "markdown",
     "metadata": {},
     "source": [
      "Note that if you use the print statement, your output will look different"
     ]
    },
    {
     "cell_type": "code",
     "collapsed": false,
     "input": [
      "print data[0:10]"
     ],
     "language": "python",
     "metadata": {},
     "outputs": [
      {
       "output_type": "stream",
       "stream": "stdout",
       "text": [
        "[['1', 'Contact', '1', '38', '79', '35.34309684', '366.3496022'], ['2', 'Contact', '1', '60', '115', '33.17929371', '103.3719955'], ['3', 'Contact', '1', '55', '99', '45.32379901', '117.1909298'], ['4', 'Contact', '1', '37', '86', '42.66942264', '121.062926'], ['5', 'Contact', '1', '26', '96', '24.3133367', '300.7980271'], ['6', 'Contact', '1', '35', '100', '20.01894596', '353.0088051'], ['7', 'Contact', '1', '49', '117', '29.69251209', '228.1920257'], ['8', 'Contact', '1', '41', '114', '27.38630052', '254.788998'], ['9', 'Contact', '1', '53', '104', '27.50141729', '636.4364611'], ['10', 'Contact', '1', '56', '88', '39.48336299', '216.9692579']]\n"
       ]
      }
     ],
     "prompt_number": 11
    },
    {
     "cell_type": "markdown",
     "metadata": {},
     "source": [
      "Why do you think this happens?"
     ]
    },
    {
     "cell_type": "markdown",
     "metadata": {},
     "source": [
      "#### Find the columns associated with each of the variables of interest.\n",
      "\n",
      "First, extract the column indices."
     ]
    },
    {
     "cell_type": "code",
     "collapsed": false,
     "input": [
      "colspeed = header.index('Estimated Speed (mph)')\n",
      "print colspeed\n"
     ],
     "language": "python",
     "metadata": {},
     "outputs": [
      {
       "output_type": "stream",
       "stream": "stdout",
       "text": [
        "5\n"
       ]
      }
     ],
     "prompt_number": 12
    },
    {
     "cell_type": "code",
     "collapsed": false,
     "input": [
      "colcondname = header.index('Condition Name')\n",
      "print colcondname"
     ],
     "language": "python",
     "metadata": {},
     "outputs": [
      {
       "output_type": "stream",
       "stream": "stdout",
       "text": [
        "1\n"
       ]
      }
     ],
     "prompt_number": 13
    },
    {
     "cell_type": "markdown",
     "metadata": {},
     "source": [
      "Now, extract the data."
     ]
    },
    {
     "cell_type": "code",
     "collapsed": false,
     "input": [
      "speed = [x[colspeed] for x in data]\n",
      "print speed[0:10]"
     ],
     "language": "python",
     "metadata": {},
     "outputs": [
      {
       "output_type": "stream",
       "stream": "stdout",
       "text": [
        "['35.34309684', '33.17929371', '45.32379901', '42.66942264', '24.3133367', '20.01894596', '29.69251209', '27.38630052', '27.50141729', '39.48336299']\n"
       ]
      }
     ],
     "prompt_number": 14
    },
    {
     "cell_type": "code",
     "collapsed": false,
     "input": [
      "condname = [x[colcondname] for x in data]\n",
      "print condname[0:10]"
     ],
     "language": "python",
     "metadata": {},
     "outputs": [
      {
       "output_type": "stream",
       "stream": "stdout",
       "text": [
        "['Contact', 'Contact', 'Contact', 'Contact', 'Contact', 'Contact', 'Contact', 'Contact', 'Contact', 'Contact']\n"
       ]
      }
     ],
     "prompt_number": 15
    },
    {
     "cell_type": "markdown",
     "metadata": {},
     "source": [
      "Now let's see how many conditions we have and what the conditions are.\n",
      "First, we need to get the unique conditions. The `set` function will give you a set of unique names. To turn this set back into a list, use the `list` function."
     ]
    },
    {
     "cell_type": "code",
     "collapsed": false,
     "input": [
      "conditions = list(set(condname))\n",
      "print conditions"
     ],
     "language": "python",
     "metadata": {},
     "outputs": [
      {
       "output_type": "stream",
       "stream": "stdout",
       "text": [
        "['Smash', 'Hit', 'Bump', 'Collide', 'Contact', 'Sash']\n"
       ]
      }
     ],
     "prompt_number": 16
    },
    {
     "cell_type": "markdown",
     "metadata": {},
     "source": [
      "And now we can use `len` to get the number of different conditions."
     ]
    },
    {
     "cell_type": "code",
     "collapsed": false,
     "input": [
      "ncond = len(conditions)\n",
      "print ncond"
     ],
     "language": "python",
     "metadata": {},
     "outputs": [
      {
       "output_type": "stream",
       "stream": "stdout",
       "text": [
        "6\n"
       ]
      }
     ],
     "prompt_number": 17
    },
    {
     "cell_type": "markdown",
     "metadata": {},
     "source": [
      "Not so good. We have a listing for 6 conditions, when we really have 5. \n",
      "\n",
      "* HIT: About how fast were the cars going when they _hit_ each other?\n",
      "\n",
      "* SMASH: About how fast were the cars going when they _smashed into_ each other?\n",
      "\n",
      "* COLLIDE: About how fast were the cars going when they _collided with_ each other?\n",
      "\n",
      "* BUMP: About how fast were the cars going when they _bumped_ each other?\n",
      "\n",
      "* CONTACT: About how fast were the cars going when they _contacted_ each other?\n",
      "\n",
      "It looks like somebody mistyped the label for the `Smash` condition. We need to fix this before we go on.\n"
     ]
    },
    {
     "cell_type": "markdown",
     "metadata": {},
     "source": [
      "We need to check whether our hypothesis is correct. Let's count the number of instances of each condition."
     ]
    },
    {
     "cell_type": "code",
     "collapsed": false,
     "input": [
      "idx = 0\n",
      "indices = []\n",
      "for cond in conditions:\n",
      "    indices.append([i for i, x in enumerate(condname) if x == cond])\n",
      "    print len(indices[idx])\n",
      "    idx += 1"
     ],
     "language": "python",
     "metadata": {},
     "outputs": [
      {
       "output_type": "stream",
       "stream": "stdout",
       "text": [
        "4998\n",
        "5000\n",
        "5000\n",
        "5000\n",
        "5000\n",
        "2\n"
       ]
      }
     ],
     "prompt_number": 18
    },
    {
     "cell_type": "markdown",
     "metadata": {},
     "source": [
      "It looks like we were correct.  Let's replace the elements `Sash` with `Smash`."
     ]
    },
    {
     "cell_type": "code",
     "collapsed": false,
     "input": [
      "for idx, item in enumerate(condname):\n",
      "    if item == \"Sash\":\n",
      "        condname[idx]=\"Smash\"\n",
      "        print \"Element \" + str(idx) + \" (\" + str(item) + \") replaced with Smash\" \n"
     ],
     "language": "python",
     "metadata": {},
     "outputs": [
      {
       "output_type": "stream",
       "stream": "stdout",
       "text": [
        "Element 20261 (Sash) replaced with Smash\n",
        "Element 20282 (Sash) replaced with Smash\n"
       ]
      }
     ],
     "prompt_number": 19
    },
    {
     "cell_type": "markdown",
     "metadata": {},
     "source": [
      "##### Exercise 2: Check the indices of the mispelled condition name have been corrected and turn all the relevant bits of code into functions"
     ]
    },
    {
     "cell_type": "code",
     "collapsed": false,
     "input": [
      "c = list(set(condname))\n",
      "print c\n",
      "\n",
      "### Note to self: FINISH THIS"
     ],
     "language": "python",
     "metadata": {},
     "outputs": [
      {
       "output_type": "stream",
       "stream": "stdout",
       "text": [
        "['Bump', 'Smash', 'Contact', 'Hit', 'Collide']\n"
       ]
      }
     ],
     "prompt_number": 20
    },
    {
     "cell_type": "markdown",
     "metadata": {},
     "source": [
      "Now let's check that all the data in the variable `Estimated speed (mph)` are entered correctly."
     ]
    },
    {
     "cell_type": "markdown",
     "metadata": {},
     "source": [
      "Let's try to get our descriptive statistics."
     ]
    },
    {
     "cell_type": "code",
     "collapsed": false,
     "input": [
      "import numpy as np\n",
      "\n",
      "grandmean = np.mean(speed)"
     ],
     "language": "python",
     "metadata": {},
     "outputs": [
      {
       "ename": "TypeError",
       "evalue": "cannot perform reduce with flexible type",
       "output_type": "pyerr",
       "traceback": [
        "\u001b[1;31m---------------------------------------------------------------------------\u001b[0m\n\u001b[1;31mTypeError\u001b[0m                                 Traceback (most recent call last)",
        "\u001b[1;32m<ipython-input-30-8532797ef06c>\u001b[0m in \u001b[0;36m<module>\u001b[1;34m()\u001b[0m\n\u001b[0;32m      1\u001b[0m \u001b[1;32mimport\u001b[0m \u001b[0mnumpy\u001b[0m \u001b[1;32mas\u001b[0m \u001b[0mnp\u001b[0m\u001b[1;33m\u001b[0m\u001b[0m\n\u001b[0;32m      2\u001b[0m \u001b[1;33m\u001b[0m\u001b[0m\n\u001b[1;32m----> 3\u001b[1;33m \u001b[0mgrandmean\u001b[0m \u001b[1;33m=\u001b[0m \u001b[0mnp\u001b[0m\u001b[1;33m.\u001b[0m\u001b[0mmean\u001b[0m\u001b[1;33m(\u001b[0m\u001b[0mspeed\u001b[0m\u001b[1;33m)\u001b[0m\u001b[1;33m\u001b[0m\u001b[0m\n\u001b[0m",
        "\u001b[1;32mC:\\Anaconda\\lib\\site-packages\\numpy\\core\\fromnumeric.pyc\u001b[0m in \u001b[0;36mmean\u001b[1;34m(a, axis, dtype, out, keepdims)\u001b[0m\n\u001b[0;32m   2486\u001b[0m \u001b[1;33m\u001b[0m\u001b[0m\n\u001b[0;32m   2487\u001b[0m     return _methods._mean(a, axis=axis, dtype=dtype,\n\u001b[1;32m-> 2488\u001b[1;33m                             out=out, keepdims=keepdims)\n\u001b[0m\u001b[0;32m   2489\u001b[0m \u001b[1;33m\u001b[0m\u001b[0m\n\u001b[0;32m   2490\u001b[0m \u001b[1;33m\u001b[0m\u001b[0m\n",
        "\u001b[1;32mC:\\Anaconda\\lib\\site-packages\\numpy\\core\\_methods.pyc\u001b[0m in \u001b[0;36m_mean\u001b[1;34m(a, axis, dtype, out, keepdims)\u001b[0m\n\u001b[0;32m     49\u001b[0m     \u001b[1;32melse\u001b[0m\u001b[1;33m:\u001b[0m\u001b[1;33m\u001b[0m\u001b[0m\n\u001b[0;32m     50\u001b[0m         ret = um.add.reduce(arr, axis=axis, dtype=dtype,\n\u001b[1;32m---> 51\u001b[1;33m                             out=out, keepdims=keepdims)\n\u001b[0m\u001b[0;32m     52\u001b[0m     \u001b[0mrcount\u001b[0m \u001b[1;33m=\u001b[0m \u001b[0m_count_reduce_items\u001b[0m\u001b[1;33m(\u001b[0m\u001b[0marr\u001b[0m\u001b[1;33m,\u001b[0m \u001b[0maxis\u001b[0m\u001b[1;33m)\u001b[0m\u001b[1;33m\u001b[0m\u001b[0m\n\u001b[0;32m     53\u001b[0m     \u001b[1;32mif\u001b[0m \u001b[0misinstance\u001b[0m\u001b[1;33m(\u001b[0m\u001b[0mret\u001b[0m\u001b[1;33m,\u001b[0m \u001b[0mmu\u001b[0m\u001b[1;33m.\u001b[0m\u001b[0mndarray\u001b[0m\u001b[1;33m)\u001b[0m\u001b[1;33m:\u001b[0m\u001b[1;33m\u001b[0m\u001b[0m\n",
        "\u001b[1;31mTypeError\u001b[0m: cannot perform reduce with flexible type"
       ]
      }
     ],
     "prompt_number": 30
    },
    {
     "cell_type": "markdown",
     "metadata": {},
     "source": [
      "It doesn't work. Let's check the type of the variable `speed` and the elements in `speed`.\n",
      "\n",
      "First the variable:"
     ]
    },
    {
     "cell_type": "code",
     "collapsed": false,
     "input": [
      "type(speed)"
     ],
     "language": "python",
     "metadata": {},
     "outputs": [
      {
       "output_type": "pyout",
       "prompt_number": 21,
       "text": [
        "list"
       ]
      }
     ],
     "prompt_number": 21
    },
    {
     "cell_type": "markdown",
     "metadata": {},
     "source": [
      "Now the elements:"
     ]
    },
    {
     "cell_type": "code",
     "collapsed": false,
     "input": [
      "count = 0\n",
      "format = []\n",
      "for item in speed:\n",
      "    format.append(type(speed[count]))\n",
      "    count += 1\n",
      "list(set(format))"
     ],
     "language": "python",
     "metadata": {},
     "outputs": [
      {
       "output_type": "pyout",
       "prompt_number": 41,
       "text": [
        "[str]"
       ]
      }
     ],
     "prompt_number": 41
    },
    {
     "cell_type": "markdown",
     "metadata": {},
     "source": [
      "Oops. The data is in the wrong format. We need either integers or floats, not strings."
     ]
    },
    {
     "cell_type": "code",
     "collapsed": false,
     "input": [
      "count = 0\n",
      "speedfloat=[]\n",
      "for item in speed:\n",
      "    speedfloat.append(float(speed[count]))\n",
      "    count += 1"
     ],
     "language": "python",
     "metadata": {},
     "outputs": [],
     "prompt_number": 25
    },
    {
     "cell_type": "markdown",
     "metadata": {},
     "source": [
      "Why did we choose floats rather than integers?\n",
      "\n",
      "Now let's find the mean and standard deviation."
     ]
    },
    {
     "cell_type": "code",
     "collapsed": false,
     "input": [
      "grandmean = np.mean(speedfloat)\n",
      "print grandmean"
     ],
     "language": "python",
     "metadata": {},
     "outputs": [
      {
       "output_type": "stream",
       "stream": "stdout",
       "text": [
        "38.0000001939\n"
       ]
      }
     ],
     "prompt_number": 29
    },
    {
     "cell_type": "code",
     "collapsed": false,
     "input": [
      "grandstd = np.std(speedfloat)\n",
      "print grandstd"
     ],
     "language": "python",
     "metadata": {},
     "outputs": [
      {
       "output_type": "stream",
       "stream": "stdout",
       "text": [
        "10.449113221\n"
       ]
      }
     ],
     "prompt_number": 28
    },
    {
     "cell_type": "markdown",
     "metadata": {},
     "source": [
      "Now we can get the condition means"
     ]
    },
    {
     "cell_type": "code",
     "collapsed": false,
     "input": [],
     "language": "python",
     "metadata": {},
     "outputs": []
    }
   ],
   "metadata": {}
  }
 ]
}