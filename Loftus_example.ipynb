{
 "metadata": {
  "name": "Loftus_example"
 },
 "nbformat": 3,
 "nbformat_minor": 0,
 "worksheets": [
  {
   "cells": [
    {
     "cell_type": "markdown",
     "metadata": {},
     "source": [
      "#Putting it all together\n",
      "\n",
      "## Taking off with Loftus ...\n",
      "\n",
      "(From Abdi, Edelman, Valentin & Dowling, 2009; Williams, Krishnan, & Abdi, 2009)\n",
      "\n",
      "-------------\n",
      "\n",
      "In the 1970s Elizabeth Loftus (Loftus and Palmer, 1974) conducted a series of experiments on the theme of eyewitness testimony. They wanted to find out whether the wording of a question affected the later responses of witnesses. To do this she showed subjects a film of a car accident. Following the film, she asked them a series of questions. Among the questions was one of 5 versions of a critical question concerning the speed the vehicles were travelling in miles per hour. Here are the 5 versions of the question along with the experimental condition in which they occurred:\n",
      "\n",
      "* HIT: About how fast were the cars going when they _hit_ each other?\n",
      "\n",
      "* SMASH: About how fast were the cars going when they _smashed into_ each other?\n",
      "\n",
      "* COLLIDE: About how fast were the cars going when they _collided with_ each other?\n",
      "\n",
      "* BUMP: About how fast were the cars going when they _bumped_ each other?\n",
      "\n",
      "* CONTACT: About how fast were the cars going when they _contacted_ each other?\n",
      "\n",
      "\n",
      "Software Carpentry conducted a (ficticious) replication of the study in an online survey. The results are in the file loftus.csv. "
     ]
    },
    {
     "cell_type": "markdown",
     "metadata": {},
     "source": [
      "### Step 1: Decide what your research question is and your independent and dependent variables"
     ]
    },
    {
     "cell_type": "code",
     "collapsed": false,
     "input": [],
     "language": "python",
     "metadata": {},
     "outputs": []
    },
    {
     "cell_type": "markdown",
     "metadata": {},
     "source": [
      "### Step 2: Import the .csv file\n"
     ]
    },
    {
     "cell_type": "code",
     "collapsed": false,
     "input": [
      "datafile = open('loftus.csv', 'rU')\n",
      "data = []\n",
      "for row in datafile:\n",
      "    data.append(row.strip().split(','))\n",
      "datafile.close()"
     ],
     "language": "python",
     "metadata": {},
     "outputs": [],
     "prompt_number": 23
    },
    {
     "cell_type": "markdown",
     "metadata": {},
     "source": [
      "### Step 3: Get header row"
     ]
    },
    {
     "cell_type": "code",
     "collapsed": false,
     "input": [
      "datafile = open('loftus.csv', 'rU')\n",
      "data = []\n",
      "rownum = 0\n",
      "for row in datafile:\n",
      "    if rownum == 0:\n",
      "        header = row\n",
      "    else:\n",
      "        data.append(row.strip().split(','))\n",
      "    rownum += 1\n",
      "datafile.close()"
     ],
     "language": "python",
     "metadata": {},
     "outputs": [],
     "prompt_number": 25
    },
    {
     "cell_type": "markdown",
     "metadata": {},
     "source": [
      "#### Step 2a: Turn the import command into a function for use with other data sets"
     ]
    },
    {
     "cell_type": "code",
     "collapsed": false,
     "input": [],
     "language": "python",
     "metadata": {},
     "outputs": []
    },
    {
     "cell_type": "code",
     "collapsed": false,
     "input": [],
     "language": "python",
     "metadata": {},
     "outputs": []
    },
    {
     "cell_type": "markdown",
     "metadata": {},
     "source": [
      "get indices for the condition for each observation"
     ]
    },
    {
     "cell_type": "code",
     "collapsed": false,
     "input": [],
     "language": "python",
     "metadata": {},
     "outputs": []
    },
    {
     "cell_type": "markdown",
     "metadata": {},
     "source": [
      "check data format"
     ]
    },
    {
     "cell_type": "code",
     "collapsed": false,
     "input": [],
     "language": "python",
     "metadata": {},
     "outputs": []
    },
    {
     "cell_type": "markdown",
     "metadata": {},
     "source": [
      "Reformat data structure"
     ]
    },
    {
     "cell_type": "code",
     "collapsed": false,
     "input": [],
     "language": "python",
     "metadata": {},
     "outputs": []
    },
    {
     "cell_type": "markdown",
     "metadata": {},
     "source": [
      "Run descriptive stats\n"
     ]
    },
    {
     "cell_type": "code",
     "collapsed": false,
     "input": [],
     "language": "python",
     "metadata": {},
     "outputs": []
    }
   ],
   "metadata": {}
  }
 ]
}